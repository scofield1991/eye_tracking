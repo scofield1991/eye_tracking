{
 "cells": [
  {
   "cell_type": "code",
   "execution_count": 1,
   "metadata": {
    "collapsed": false
   },
   "outputs": [
    {
     "ename": "ImportError",
     "evalue": "No module named matplotlib",
     "output_type": "error",
     "traceback": [
      "\u001b[0;31m---------------------------------------------------------------------------\u001b[0m",
      "\u001b[0;31mImportError\u001b[0m                               Traceback (most recent call last)",
      "\u001b[0;32m<ipython-input-1-c4c8f25c42b7>\u001b[0m in \u001b[0;36m<module>\u001b[0;34m()\u001b[0m\n\u001b[1;32m      2\u001b[0m \u001b[0;32mimport\u001b[0m \u001b[0mnumpy\u001b[0m \u001b[0;32mas\u001b[0m \u001b[0mnp\u001b[0m\u001b[0;34m\u001b[0m\u001b[0m\n\u001b[1;32m      3\u001b[0m \u001b[0;32mimport\u001b[0m \u001b[0mpandas\u001b[0m \u001b[0;32mas\u001b[0m \u001b[0mpd\u001b[0m\u001b[0;34m\u001b[0m\u001b[0m\n\u001b[0;32m----> 4\u001b[0;31m \u001b[0;32mfrom\u001b[0m \u001b[0mmatplotlib\u001b[0m \u001b[0;32mimport\u001b[0m \u001b[0mpyplot\u001b[0m \u001b[0;32mas\u001b[0m \u001b[0mplt\u001b[0m\u001b[0;34m\u001b[0m\u001b[0m\n\u001b[0m\u001b[1;32m      5\u001b[0m \u001b[0;32mimport\u001b[0m \u001b[0mseaborn\u001b[0m\u001b[0;34m\u001b[0m\u001b[0m\n\u001b[1;32m      6\u001b[0m \u001b[0;34m\u001b[0m\u001b[0m\n",
      "\u001b[0;31mImportError\u001b[0m: No module named matplotlib"
     ]
    }
   ],
   "source": [
    "from sklearn import cross_validation,metrics\n",
    "import numpy as np\n",
    "import pandas as pd\n",
    "from matplotlib import pyplot as plt\n",
    "import seaborn \n",
    "\n",
    "%matplotlib inline"
   ]
  },
  {
   "cell_type": "code",
   "execution_count": 4,
   "metadata": {
    "collapsed": false
   },
   "outputs": [],
   "source": [
    "df_gen  = pd.read_csv('deeplearning.csv', nrows=1000000,sep = \";\")"
   ]
  },
  {
   "cell_type": "code",
   "execution_count": 6,
   "metadata": {
    "collapsed": false
   },
   "outputs": [
    {
     "name": "stdout",
     "output_type": "stream",
     "text": [
      "<class 'pandas.core.frame.DataFrame'>\n",
      "RangeIndex: 1000000 entries, 0 to 999999\n",
      "Data columns (total 23 columns):\n",
      "exp           1000000 non-null object\n",
      "ekb           1000000 non-null int64\n",
      "uid           1000000 non-null object\n",
      "trial         1000000 non-null int64\n",
      "sti           1000000 non-null object\n",
      "time          1000000 non-null float64\n",
      "trial_time    1000000 non-null float64\n",
      "truth         1000000 non-null object\n",
      "blank         1000000 non-null int64\n",
      "fix           1000000 non-null int64\n",
      "state         1000000 non-null int64\n",
      "x             1000000 non-null int64\n",
      "y             1000000 non-null int64\n",
      "left_x        1000000 non-null int64\n",
      "left_y        1000000 non-null int64\n",
      "left_pd       1000000 non-null float64\n",
      "left_px       1000000 non-null float64\n",
      "left_py       1000000 non-null float64\n",
      "right_x       1000000 non-null float64\n",
      "right_y       1000000 non-null int64\n",
      "right_pd      1000000 non-null float64\n",
      "right_px      1000000 non-null float64\n",
      "right_py      1000000 non-null float64\n",
      "dtypes: float64(9), int64(10), object(4)\n",
      "memory usage: 175.5+ MB\n"
     ]
    }
   ],
   "source": [
    "df_gen.info()"
   ]
  },
  {
   "cell_type": "code",
   "execution_count": 7,
   "metadata": {
    "collapsed": false
   },
   "outputs": [
    {
     "data": {
      "text/html": [
       "<div>\n",
       "<table border=\"1\" class=\"dataframe\">\n",
       "  <thead>\n",
       "    <tr style=\"text-align: right;\">\n",
       "      <th></th>\n",
       "      <th>exp</th>\n",
       "      <th>ekb</th>\n",
       "      <th>uid</th>\n",
       "      <th>trial</th>\n",
       "      <th>sti</th>\n",
       "      <th>time</th>\n",
       "      <th>trial_time</th>\n",
       "      <th>truth</th>\n",
       "      <th>blank</th>\n",
       "      <th>fix</th>\n",
       "      <th>...</th>\n",
       "      <th>left_x</th>\n",
       "      <th>left_y</th>\n",
       "      <th>left_pd</th>\n",
       "      <th>left_px</th>\n",
       "      <th>left_py</th>\n",
       "      <th>right_x</th>\n",
       "      <th>right_y</th>\n",
       "      <th>right_pd</th>\n",
       "      <th>right_px</th>\n",
       "      <th>right_py</th>\n",
       "    </tr>\n",
       "  </thead>\n",
       "  <tbody>\n",
       "    <tr>\n",
       "      <th>0</th>\n",
       "      <td>et_pot</td>\n",
       "      <td>48930649</td>\n",
       "      <td>3994-10</td>\n",
       "      <td>10</td>\n",
       "      <td>RF1</td>\n",
       "      <td>53.609</td>\n",
       "      <td>0.017</td>\n",
       "      <td>?</td>\n",
       "      <td>0</td>\n",
       "      <td>0</td>\n",
       "      <td>...</td>\n",
       "      <td>0</td>\n",
       "      <td>0</td>\n",
       "      <td>27.7132</td>\n",
       "      <td>0.3541</td>\n",
       "      <td>0.4960</td>\n",
       "      <td>0.0</td>\n",
       "      <td>0</td>\n",
       "      <td>26.6209</td>\n",
       "      <td>0.6602</td>\n",
       "      <td>0.5498</td>\n",
       "    </tr>\n",
       "    <tr>\n",
       "      <th>1</th>\n",
       "      <td>et_pot</td>\n",
       "      <td>48930649</td>\n",
       "      <td>3994-10</td>\n",
       "      <td>10</td>\n",
       "      <td>RF1</td>\n",
       "      <td>53.625</td>\n",
       "      <td>0.033</td>\n",
       "      <td>?</td>\n",
       "      <td>0</td>\n",
       "      <td>0</td>\n",
       "      <td>...</td>\n",
       "      <td>0</td>\n",
       "      <td>0</td>\n",
       "      <td>26.7377</td>\n",
       "      <td>0.3539</td>\n",
       "      <td>0.4957</td>\n",
       "      <td>0.0</td>\n",
       "      <td>0</td>\n",
       "      <td>26.6455</td>\n",
       "      <td>0.6600</td>\n",
       "      <td>0.5495</td>\n",
       "    </tr>\n",
       "    <tr>\n",
       "      <th>2</th>\n",
       "      <td>et_pot</td>\n",
       "      <td>48930649</td>\n",
       "      <td>3994-10</td>\n",
       "      <td>10</td>\n",
       "      <td>RF1</td>\n",
       "      <td>53.642</td>\n",
       "      <td>0.050</td>\n",
       "      <td>?</td>\n",
       "      <td>0</td>\n",
       "      <td>0</td>\n",
       "      <td>...</td>\n",
       "      <td>0</td>\n",
       "      <td>0</td>\n",
       "      <td>25.5408</td>\n",
       "      <td>0.3533</td>\n",
       "      <td>0.4971</td>\n",
       "      <td>0.0</td>\n",
       "      <td>0</td>\n",
       "      <td>40.5057</td>\n",
       "      <td>0.6607</td>\n",
       "      <td>0.5417</td>\n",
       "    </tr>\n",
       "    <tr>\n",
       "      <th>3</th>\n",
       "      <td>et_pot</td>\n",
       "      <td>48930649</td>\n",
       "      <td>3994-10</td>\n",
       "      <td>10</td>\n",
       "      <td>RF1</td>\n",
       "      <td>53.658</td>\n",
       "      <td>0.066</td>\n",
       "      <td>?</td>\n",
       "      <td>0</td>\n",
       "      <td>0</td>\n",
       "      <td>...</td>\n",
       "      <td>0</td>\n",
       "      <td>0</td>\n",
       "      <td>0.0000</td>\n",
       "      <td>0.0000</td>\n",
       "      <td>0.0000</td>\n",
       "      <td>0.0</td>\n",
       "      <td>0</td>\n",
       "      <td>11.5018</td>\n",
       "      <td>0.6479</td>\n",
       "      <td>0.5571</td>\n",
       "    </tr>\n",
       "    <tr>\n",
       "      <th>4</th>\n",
       "      <td>et_pot</td>\n",
       "      <td>48930649</td>\n",
       "      <td>3994-10</td>\n",
       "      <td>10</td>\n",
       "      <td>RF1</td>\n",
       "      <td>53.675</td>\n",
       "      <td>0.083</td>\n",
       "      <td>?</td>\n",
       "      <td>0</td>\n",
       "      <td>0</td>\n",
       "      <td>...</td>\n",
       "      <td>0</td>\n",
       "      <td>0</td>\n",
       "      <td>0.0000</td>\n",
       "      <td>0.0000</td>\n",
       "      <td>0.0000</td>\n",
       "      <td>0.0</td>\n",
       "      <td>0</td>\n",
       "      <td>0.0000</td>\n",
       "      <td>0.0000</td>\n",
       "      <td>0.0000</td>\n",
       "    </tr>\n",
       "  </tbody>\n",
       "</table>\n",
       "<p>5 rows × 23 columns</p>\n",
       "</div>"
      ],
      "text/plain": [
       "      exp       ekb      uid  trial  sti    time  trial_time truth  blank  \\\n",
       "0  et_pot  48930649  3994-10     10  RF1  53.609       0.017     ?      0   \n",
       "1  et_pot  48930649  3994-10     10  RF1  53.625       0.033     ?      0   \n",
       "2  et_pot  48930649  3994-10     10  RF1  53.642       0.050     ?      0   \n",
       "3  et_pot  48930649  3994-10     10  RF1  53.658       0.066     ?      0   \n",
       "4  et_pot  48930649  3994-10     10  RF1  53.675       0.083     ?      0   \n",
       "\n",
       "   fix    ...     left_x  left_y  left_pd  left_px  left_py  right_x  right_y  \\\n",
       "0    0    ...          0       0  27.7132   0.3541   0.4960      0.0        0   \n",
       "1    0    ...          0       0  26.7377   0.3539   0.4957      0.0        0   \n",
       "2    0    ...          0       0  25.5408   0.3533   0.4971      0.0        0   \n",
       "3    0    ...          0       0   0.0000   0.0000   0.0000      0.0        0   \n",
       "4    0    ...          0       0   0.0000   0.0000   0.0000      0.0        0   \n",
       "\n",
       "   right_pd  right_px  right_py  \n",
       "0   26.6209    0.6602    0.5498  \n",
       "1   26.6455    0.6600    0.5495  \n",
       "2   40.5057    0.6607    0.5417  \n",
       "3   11.5018    0.6479    0.5571  \n",
       "4    0.0000    0.0000    0.0000  \n",
       "\n",
       "[5 rows x 23 columns]"
      ]
     },
     "execution_count": 7,
     "metadata": {},
     "output_type": "execute_result"
    }
   ],
   "source": [
    "df_gen.head()"
   ]
  },
  {
   "cell_type": "code",
   "execution_count": null,
   "metadata": {
    "collapsed": true
   },
   "outputs": [],
   "source": []
  }
 ],
 "metadata": {
  "kernelspec": {
   "display_name": "Python 2",
   "language": "python",
   "name": "python2"
  },
  "language_info": {
   "codemirror_mode": {
    "name": "ipython",
    "version": 2
   },
   "file_extension": ".py",
   "mimetype": "text/x-python",
   "name": "python",
   "nbconvert_exporter": "python",
   "pygments_lexer": "ipython2",
   "version": "2.7.12"
  }
 },
 "nbformat": 4,
 "nbformat_minor": 1
}
